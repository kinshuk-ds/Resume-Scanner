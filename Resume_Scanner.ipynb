{
  "nbformat": 4,
  "nbformat_minor": 0,
  "metadata": {
    "colab": {
      "provenance": []
    },
    "kernelspec": {
      "name": "python3",
      "display_name": "Python 3"
    },
    "language_info": {
      "name": "python"
    }
  },
  "cells": [
    {
      "cell_type": "code",
      "execution_count": null,
      "metadata": {
        "id": "cO5LGLPSJP_V",
        "colab": {
          "base_uri": "https://localhost:8080/"
        },
        "outputId": "ed5d764c-f6b9-4b6f-ee0d-265703144aa3"
      },
      "outputs": [
        {
          "output_type": "stream",
          "name": "stdout",
          "text": [
            "Looking in indexes: https://pypi.org/simple, https://us-python.pkg.dev/colab-wheels/public/simple/\n",
            "Requirement already satisfied: docx2txt in /usr/local/lib/python3.7/dist-packages (0.8)\n"
          ]
        }
      ],
      "source": [
        "!pip install docx2txt\n",
        "import docx2txt"
      ]
    },
    {
      "cell_type": "code",
      "source": [
        "job_description = docx2txt.process('/content/eyfs_job_description_and_criteriadoc.doc')\n",
        "resume = docx2txt.process('/content/Kinshuk dayal saraswat_RESUME.docx')"
      ],
      "metadata": {
        "id": "0lsoRuiyJc75"
      },
      "execution_count": null,
      "outputs": []
    },
    {
      "cell_type": "code",
      "source": [
        "print(job_description)"
      ],
      "metadata": {
        "id": "PP4Ky3j0LQfR"
      },
      "execution_count": null,
      "outputs": []
    },
    {
      "cell_type": "code",
      "source": [
        "print(resume)"
      ],
      "metadata": {
        "id": "1TGvOPL1KH0x"
      },
      "execution_count": null,
      "outputs": []
    },
    {
      "cell_type": "code",
      "source": [
        "content = [job_description,resume] #Listening"
      ],
      "metadata": {
        "id": "FvDUOgcpKK4i"
      },
      "execution_count": null,
      "outputs": []
    },
    {
      "cell_type": "code",
      "source": [
        "from sklearn.feature_extraction.text import CountVectorizer\n",
        "cv = CountVectorizer()\n",
        "matrix = cv.fit_transform(content) #CONVERTING TEXT INTO VECTORS"
      ],
      "metadata": {
        "id": "0TZqe7IOKWu3"
      },
      "execution_count": null,
      "outputs": []
    },
    {
      "cell_type": "code",
      "source": [
        "from sklearn.metrics.pairwise import cosine_similarity\n",
        "similarity_matrix = cosine_similarity(matrix)\n",
        "print(similarity_matrix)"
      ],
      "metadata": {
        "id": "roX3ovZfKlLF",
        "colab": {
          "base_uri": "https://localhost:8080/"
        },
        "outputId": "6c91e7e8-d302-4124-d030-4df5df71ccd3"
      },
      "execution_count": null,
      "outputs": [
        {
          "output_type": "stream",
          "name": "stdout",
          "text": [
            "[[1.         0.55359724]\n",
            " [0.55359724 1.        ]]\n"
          ]
        }
      ]
    },
    {
      "cell_type": "code",
      "source": [
        "similarity = str(similarity_matrix[1][0]*100)"
      ],
      "metadata": {
        "id": "_GQUk5ygNhzz"
      },
      "execution_count": null,
      "outputs": []
    },
    {
      "cell_type": "code",
      "source": [
        "print(\"Resume matches by = \" + similarity +\" %\")"
      ],
      "metadata": {
        "colab": {
          "base_uri": "https://localhost:8080/"
        },
        "id": "DIYdQguvK7DK",
        "outputId": "b0856707-b3d5-43d5-97da-ffc3fe9e27b5"
      },
      "execution_count": null,
      "outputs": [
        {
          "output_type": "stream",
          "name": "stdout",
          "text": [
            "Resume matches by = 55.35972429197255 %\n"
          ]
        }
      ]
    },
    {
      "cell_type": "code",
      "source": [],
      "metadata": {
        "id": "z0NxSyXxN42V"
      },
      "execution_count": null,
      "outputs": []
    }
  ]
}